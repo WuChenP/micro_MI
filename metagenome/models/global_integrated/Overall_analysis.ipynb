{
 "cells": [
  {
   "cell_type": "code",
   "id": "initial_id",
   "metadata": {
    "collapsed": true,
    "ExecuteTime": {
     "end_time": "2025-09-25T12:08:10.874254Z",
     "start_time": "2025-09-25T12:08:10.168729Z"
    }
   },
   "source": [
    "import pandas as pd\n",
    "\n",
    "# 读取 CSV 文件\n",
    "df = pd.read_csv(\"E:/Python/MI_Analysis/filtered_data/细菌_filtered_20percent.csv\", index_col=0)  # index_col=0 保留第一列作为行名\n",
    "\n",
    "# 保存为 XLSX 文件\n",
    "df.to_excel(\"E:/Python/MI_Analysis/filtered_data/细菌_filtered_20percent.xlsx\", index=True)"
   ],
   "outputs": [],
   "execution_count": 4
  },
  {
   "metadata": {
    "jupyter": {
     "is_executing": true
    }
   },
   "cell_type": "code",
   "source": "\"\"\"E:/Python/MI_Analysis/filtered_data/古菌_filtered_20percent\"\"\"",
   "id": "c87b5ce0728fa83d",
   "outputs": [],
   "execution_count": null
  }
 ],
 "metadata": {
  "kernelspec": {
   "display_name": "Python 3",
   "language": "python",
   "name": "python3"
  },
  "language_info": {
   "codemirror_mode": {
    "name": "ipython",
    "version": 2
   },
   "file_extension": ".py",
   "mimetype": "text/x-python",
   "name": "python",
   "nbconvert_exporter": "python",
   "pygments_lexer": "ipython2",
   "version": "2.7.6"
  }
 },
 "nbformat": 4,
 "nbformat_minor": 5
}
